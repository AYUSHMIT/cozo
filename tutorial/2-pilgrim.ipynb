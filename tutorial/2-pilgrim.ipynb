{
  "metadata": {
    "language_info": {
      "codemirror_mode": {
        "name": "text/plain"
      },
      "file_extension": ".txt",
      "mimetype": "text/plain",
      "name": "cozo",
      "nbconvert_exporter": "text",
      "pygments_lexer": "text",
      "version": "es2017"
    },
    "kernelspec": {
      "name": "cozo",
      "display_name": "CozoScript (localhost)",
      "language": "text"
    }
  },
  "nbformat_minor": 4,
  "nbformat": 4,
  "cells": [
    {
      "cell_type": "markdown",
      "source": "# The pilgrim to Mount Acid",
      "metadata": {}
    },
    {
      "cell_type": "markdown",
      "source": "## A schema for data",
      "metadata": {}
    },
    {
      "cell_type": "markdown",
      "source": "At this age of BigDataⒸ, your business data are enormous and change fast. You may have one billion active users on your platform carrying out all sorts of activities, concurrently of course. You don't want these activities to step on each other. You don't want to store the wrong thing into your user's accounts. You _especially_ don't want any money in transit to disappear in midair. To make things worse, hundreds of new activities pop up each day. \n\nStoring any of these in a stored relation is infeasible. With a traditional RDBMS, [data migrations](https://en.wikipedia.org/wiki/Data_migration) would have already killed you. And with Cozo, stored relations don't even try to support schema change (in fact, the only 'schema' for a stored relation is its arity).\n\nTo store such data and meet its query and mutation requirements, a database needs:\n\n* high concurrency;\n* fine-grained transactions;\n* checks for data integrity;\n* ability to rapidly adapt to new data shapes and requirements.\n\nTo support these, we need to pay some prices. With Cozo, we pay by:\n\n* we demand that most transactions only apply _local changes_ that only touch on a tiny fraction of the data (otherwise the database cannot satisfy the high concurrency requirements);\n* we tolerate indirections (since \"all problems in computer science can be solved by another level of indirection\").",
      "metadata": {}
    },
    {
      "cell_type": "markdown",
      "source": "With these tradeoffs, the solution is the [triple store](https://en.wikipedia.org/wiki/Triplestore).",
      "metadata": {}
    },
    {
      "cell_type": "markdown",
      "source": "A _triple_ is a sentence consisting of a subject, a verb, and an object. In the Cozo flavour, the subject is always an opaque identity, such as _entity42_, so it is actually an _entity-attribute-value_ triple. Examples:\n\n* _entity42_ has first name `'Alice'`.\n* _entity42_ has last name `'Liddell'`.\n* _entity42_ loves _entity81_.\n* _entity81_ is aged `20` years old.",
      "metadata": {}
    },
    {
      "cell_type": "markdown",
      "source": "We schematize triples by schematizing the verbs (attributes). In our example, the schema for first name and last name should have type strings, the schema for age should have type integers, and the schema for the \"loves\" relationship should be other entities. Here the types refer to the objects in the triple, since the subject is always an entity.",
      "metadata": {}
    },
    {
      "cell_type": "markdown",
      "source": "So let's put this into code:",
      "metadata": {}
    },
    {
      "cell_type": "code",
      "source": ":schema\n\nput person {\n    first_name: string index,\n    nick_name: string many index,\n    loves: ref many,\n    age: int\n}",
      "metadata": {
        "trusted": true
      },
      "execution_count": 1,
      "outputs": [
        {
          "execution_count": 1,
          "output_type": "execute_result",
          "data": {
            "text/html": "<div style=\"display: flex; align-items: end; flex-direction: row;\"><table><thead><tr><td style=\"font-weight: bold\">attr_id</td><td style=\"font-weight: bold\">op</td></tr></thead><tbody><tr><td><span style=\"color: #307fc1;\">10000001</span></td><td>assert</td></tr><tr><td><span style=\"color: #307fc1;\">10000002</span></td><td>assert</td></tr><tr><td><span style=\"color: #307fc1;\">10000003</span></td><td>assert</td></tr><tr><td><span style=\"color: #307fc1;\">10000004</span></td><td>assert</td></tr></tbody></table><span style=\"color: darkgrey; font-size: xx-small; margin: 13px;\">Took 1ms</span></div>"
          },
          "metadata": {}
        }
      ]
    },
    {
      "cell_type": "markdown",
      "source": "The `:schema` at the top indicates that we want to manage the schema instead of run normal queries. We then `put` a _group_ of related schema. Now even though they are declared together similarly to a table definition in SQL, we need to stress that this actually defines four separate, independent attributes named `person.first_name`, `person.last_name`, `person.loves`, `person.age`. An entity can have whatever attributes associated with it, even those with different prefixes.",
      "metadata": {}
    },
    {
      "cell_type": "markdown",
      "source": "The allowed types for attributes are:\n\n* `ref`\n* `bool`\n* `int`\n* `float`\n* `string`\n* `bytes`\n* `list`\n\nThe list type is heterogeneous in its elements. There is no concept of a nullable type and you can't put `null` into values of triples (other than wrapping them in lists first). To indicate missing values, you simply omit the attribute.\n\nThe `ref` type has the special meaning of refering to other entities.\n\nAfter the type comes one or more _modifiers_. The `many` modifier indicates that `loves` is a to-many relationship. If we omit it, any person can love at most one other person, which is not very realistic.\n\nThe modifier `index` indicates that we want values of this attribute to be _indexed_. Only indexed attributes support efficient value lookups and range scans. `ref` types are always implicitly indexed since the database wants to be able to traverse the graph in both directions.",
      "metadata": {}
    },
    {
      "cell_type": "markdown",
      "source": "Instead of `index`, we can mark attributes with the modifier `unique`, indicating there cannot be two entities with the same value for the attribute. The value then acts as an _unique identifier_ for the entity, which can be convenient when retrieving the entities since the entity ID is assigned by the database automatically and you cannot choose how it is assigned. So let's add an explicit `person.id` attribute, this time using the non-grouped syntax:",
      "metadata": {}
    },
    {
      "cell_type": "code",
      "source": ":schema\n\nput person.id: string unique;",
      "metadata": {
        "trusted": true
      },
      "execution_count": 2,
      "outputs": [
        {
          "execution_count": 2,
          "output_type": "execute_result",
          "data": {
            "text/html": "<div style=\"display: flex; align-items: end; flex-direction: row;\"><table><thead><tr><td style=\"font-weight: bold\">attr_id</td><td style=\"font-weight: bold\">op</td></tr></thead><tbody><tr><td><span style=\"color: #307fc1;\">10000005</span></td><td>assert</td></tr></tbody></table><span style=\"color: darkgrey; font-size: xx-small; margin: 13px;\">Took 0ms</span></div>"
          },
          "metadata": {}
        }
      ]
    },
    {
      "cell_type": "markdown",
      "source": "We can see what schema are there in the database now by running a system directive:",
      "metadata": {}
    },
    {
      "cell_type": "code",
      "source": ":db schema",
      "metadata": {
        "trusted": true
      },
      "execution_count": 3,
      "outputs": [
        {
          "execution_count": 3,
          "output_type": "execute_result",
          "data": {
            "text/html": "<div style=\"display: flex; align-items: end; flex-direction: row;\"><table><thead><tr><td style=\"font-weight: bold\">attr_id</td><td style=\"font-weight: bold\">name</td><td style=\"font-weight: bold\">type</td><td style=\"font-weight: bold\">cardinality</td><td style=\"font-weight: bold\">index</td><td style=\"font-weight: bold\">history</td></tr></thead><tbody><tr><td><span style=\"color: #307fc1;\">10000001</span></td><td>person.first_name</td><td>string</td><td>one</td><td>index</td><td><span style=\"color: #bf5b3d;\">false</span></td></tr><tr><td><span style=\"color: #307fc1;\">10000002</span></td><td>person.nick_name</td><td>string</td><td>many</td><td>index</td><td><span style=\"color: #bf5b3d;\">false</span></td></tr><tr><td><span style=\"color: #307fc1;\">10000003</span></td><td>person.loves</td><td>ref</td><td>many</td><td>none</td><td><span style=\"color: #bf5b3d;\">false</span></td></tr><tr><td><span style=\"color: #307fc1;\">10000004</span></td><td>person.age</td><td>int</td><td>one</td><td>none</td><td><span style=\"color: #bf5b3d;\">false</span></td></tr><tr><td><span style=\"color: #307fc1;\">10000005</span></td><td>person.id</td><td>string</td><td>one</td><td>unique</td><td><span style=\"color: #bf5b3d;\">false</span></td></tr></tbody></table><span style=\"color: darkgrey; font-size: xx-small; margin: 13px;\">Took 0ms</span></div>"
          },
          "metadata": {}
        }
      ]
    },
    {
      "cell_type": "markdown",
      "source": "We can rename the attribute:",
      "metadata": {}
    },
    {
      "cell_type": "code",
      "source": ":db rename attr person.id person.pid",
      "metadata": {
        "trusted": true
      },
      "execution_count": 4,
      "outputs": [
        {
          "execution_count": 4,
          "output_type": "execute_result",
          "data": {
            "text/html": "<div style=\"display: flex; align-items: end; flex-direction: row;\"><table><thead><tr><td style=\"font-weight: bold\">status</td></tr></thead><tbody><tr><td>OK</td></tr></tbody></table><span style=\"color: darkgrey; font-size: xx-small; margin: 13px;\">Took 0ms</span></div>"
          },
          "metadata": {}
        }
      ]
    },
    {
      "cell_type": "code",
      "source": ":db schema",
      "metadata": {
        "trusted": true
      },
      "execution_count": 5,
      "outputs": [
        {
          "execution_count": 5,
          "output_type": "execute_result",
          "data": {
            "text/html": "<div style=\"display: flex; align-items: end; flex-direction: row;\"><table><thead><tr><td style=\"font-weight: bold\">attr_id</td><td style=\"font-weight: bold\">name</td><td style=\"font-weight: bold\">type</td><td style=\"font-weight: bold\">cardinality</td><td style=\"font-weight: bold\">index</td><td style=\"font-weight: bold\">history</td></tr></thead><tbody><tr><td><span style=\"color: #307fc1;\">10000001</span></td><td>person.first_name</td><td>string</td><td>one</td><td>index</td><td><span style=\"color: #bf5b3d;\">false</span></td></tr><tr><td><span style=\"color: #307fc1;\">10000002</span></td><td>person.nick_name</td><td>string</td><td>many</td><td>index</td><td><span style=\"color: #bf5b3d;\">false</span></td></tr><tr><td><span style=\"color: #307fc1;\">10000003</span></td><td>person.loves</td><td>ref</td><td>many</td><td>none</td><td><span style=\"color: #bf5b3d;\">false</span></td></tr><tr><td><span style=\"color: #307fc1;\">10000004</span></td><td>person.age</td><td>int</td><td>one</td><td>none</td><td><span style=\"color: #bf5b3d;\">false</span></td></tr><tr><td><span style=\"color: #307fc1;\">10000005</span></td><td>person.pid</td><td>string</td><td>one</td><td>unique</td><td><span style=\"color: #bf5b3d;\">false</span></td></tr></tbody></table><span style=\"color: darkgrey; font-size: xx-small; margin: 13px;\">Took 0ms</span></div>"
          },
          "metadata": {}
        }
      ]
    },
    {
      "cell_type": "markdown",
      "source": "As well as getting rid of it (this will remove all the data associated with the attribute as well):",
      "metadata": {}
    },
    {
      "cell_type": "code",
      "source": ":db remove attr person.pid",
      "metadata": {
        "trusted": true
      },
      "execution_count": 6,
      "outputs": [
        {
          "execution_count": 6,
          "output_type": "execute_result",
          "data": {
            "text/html": "<div style=\"display: flex; align-items: end; flex-direction: row;\"><table><thead><tr><td style=\"font-weight: bold\">status</td></tr></thead><tbody><tr><td>OK</td></tr></tbody></table><span style=\"color: darkgrey; font-size: xx-small; margin: 13px;\">Took 0ms</span></div>"
          },
          "metadata": {}
        }
      ]
    },
    {
      "cell_type": "code",
      "source": ":db schema",
      "metadata": {
        "trusted": true
      },
      "execution_count": 7,
      "outputs": [
        {
          "execution_count": 7,
          "output_type": "execute_result",
          "data": {
            "text/html": "<div style=\"display: flex; align-items: end; flex-direction: row;\"><table><thead><tr><td style=\"font-weight: bold\">attr_id</td><td style=\"font-weight: bold\">name</td><td style=\"font-weight: bold\">type</td><td style=\"font-weight: bold\">cardinality</td><td style=\"font-weight: bold\">index</td><td style=\"font-weight: bold\">history</td></tr></thead><tbody><tr><td><span style=\"color: #307fc1;\">10000001</span></td><td>person.first_name</td><td>string</td><td>one</td><td>index</td><td><span style=\"color: #bf5b3d;\">false</span></td></tr><tr><td><span style=\"color: #307fc1;\">10000002</span></td><td>person.nick_name</td><td>string</td><td>many</td><td>index</td><td><span style=\"color: #bf5b3d;\">false</span></td></tr><tr><td><span style=\"color: #307fc1;\">10000003</span></td><td>person.loves</td><td>ref</td><td>many</td><td>none</td><td><span style=\"color: #bf5b3d;\">false</span></td></tr><tr><td><span style=\"color: #307fc1;\">10000004</span></td><td>person.age</td><td>int</td><td>one</td><td>none</td><td><span style=\"color: #bf5b3d;\">false</span></td></tr></tbody></table><span style=\"color: darkgrey; font-size: xx-small; margin: 13px;\">Took 0ms</span></div>"
          },
          "metadata": {}
        }
      ]
    },
    {
      "cell_type": "markdown",
      "source": "But that's about it. Except its name, an attribute is _immutable_ and you cannot change a `string` attribute to a `ref` attribute, nor can you decide that your `one` attribute should really be `many`.\n\nSo what do we mean when we said that this kind of structure can deal with new requirements? Say you initially made the `person.loves` attribute one-to-one and made `person.last_name` a unique index, and now you need to change them. But you need to change them not because the requirements have changed. You need to change them because you have made _mistakes_ at the beginning. These mistakes are fixed by, for example, first rename the offending attributes, then create a new attribute with the old name, next copy the data from the old attribute to the new attribute, and finally delete the old, wrong attribute. Fixing mistakes should be explicit, and this is procedure is very explicit.",
      "metadata": {}
    },
    {
      "cell_type": "markdown",
      "source": "New requirements are not mistakes, and they do not invalidate your old data or schema. Examples of changing requirements: you now need to record the passport number and the parent-child relationships of the people in your graph. Very easy:",
      "metadata": {}
    },
    {
      "cell_type": "code",
      "source": ":schema\n\nput person.passport_no: string many index;\nput person.parent_of: ref many;",
      "metadata": {
        "trusted": true
      },
      "execution_count": 8,
      "outputs": [
        {
          "execution_count": 8,
          "output_type": "execute_result",
          "data": {
            "text/html": "<div style=\"display: flex; align-items: end; flex-direction: row;\"><table><thead><tr><td style=\"font-weight: bold\">attr_id</td><td style=\"font-weight: bold\">op</td></tr></thead><tbody><tr><td><span style=\"color: #307fc1;\">10000006</span></td><td>assert</td></tr><tr><td><span style=\"color: #307fc1;\">10000007</span></td><td>assert</td></tr></tbody></table><span style=\"color: darkgrey; font-size: xx-small; margin: 13px;\">Took 3ms</span></div>"
          },
          "metadata": {}
        }
      ]
    },
    {
      "cell_type": "code",
      "source": ":db schema",
      "metadata": {
        "trusted": true
      },
      "execution_count": 9,
      "outputs": [
        {
          "execution_count": 9,
          "output_type": "execute_result",
          "data": {
            "text/html": "<div style=\"display: flex; align-items: end; flex-direction: row;\"><table><thead><tr><td style=\"font-weight: bold\">attr_id</td><td style=\"font-weight: bold\">name</td><td style=\"font-weight: bold\">type</td><td style=\"font-weight: bold\">cardinality</td><td style=\"font-weight: bold\">index</td><td style=\"font-weight: bold\">history</td></tr></thead><tbody><tr><td><span style=\"color: #307fc1;\">10000001</span></td><td>person.first_name</td><td>string</td><td>one</td><td>index</td><td><span style=\"color: #bf5b3d;\">false</span></td></tr><tr><td><span style=\"color: #307fc1;\">10000002</span></td><td>person.nick_name</td><td>string</td><td>many</td><td>index</td><td><span style=\"color: #bf5b3d;\">false</span></td></tr><tr><td><span style=\"color: #307fc1;\">10000003</span></td><td>person.loves</td><td>ref</td><td>many</td><td>none</td><td><span style=\"color: #bf5b3d;\">false</span></td></tr><tr><td><span style=\"color: #307fc1;\">10000004</span></td><td>person.age</td><td>int</td><td>one</td><td>none</td><td><span style=\"color: #bf5b3d;\">false</span></td></tr><tr><td><span style=\"color: #307fc1;\">10000006</span></td><td>person.passport_no</td><td>string</td><td>many</td><td>index</td><td><span style=\"color: #bf5b3d;\">false</span></td></tr><tr><td><span style=\"color: #307fc1;\">10000007</span></td><td>person.parent_of</td><td>ref</td><td>many</td><td>none</td><td><span style=\"color: #bf5b3d;\">false</span></td></tr></tbody></table><span style=\"color: darkgrey; font-size: xx-small; margin: 13px;\">Took 0ms</span></div>"
          },
          "metadata": {}
        }
      ]
    },
    {
      "cell_type": "markdown",
      "source": "## Data with schema",
      "metadata": {}
    },
    {
      "cell_type": "markdown",
      "source": "Let's reinstate the `person.id` attribute first:",
      "metadata": {}
    },
    {
      "cell_type": "code",
      "source": ":schema\n\nput person.id: string one unique;",
      "metadata": {
        "trusted": true
      },
      "execution_count": 10,
      "outputs": [
        {
          "execution_count": 10,
          "output_type": "execute_result",
          "data": {
            "text/html": "<div style=\"display: flex; align-items: end; flex-direction: row;\"><table><thead><tr><td style=\"font-weight: bold\">attr_id</td><td style=\"font-weight: bold\">op</td></tr></thead><tbody><tr><td><span style=\"color: #307fc1;\">10000008</span></td><td>assert</td></tr></tbody></table><span style=\"color: darkgrey; font-size: xx-small; margin: 13px;\">Took 3ms</span></div>"
          },
          "metadata": {}
        }
      ]
    },
    {
      "cell_type": "markdown",
      "source": "and now we add data to our database. First we add a person called Peter. Besides the `:tx` at the top indicating that we want to execute a transaction, it is just a map:",
      "metadata": {}
    },
    {
      "cell_type": "code",
      "source": ":tx\n\n{ person.first_name: 'Peter', person.nick_name: 'Pan', person.id: 'p' }",
      "metadata": {
        "trusted": true
      },
      "execution_count": 11,
      "outputs": [
        {
          "execution_count": 11,
          "output_type": "execute_result",
          "data": {
            "text/html": "<div style=\"display: flex; align-items: end; flex-direction: row;\"><table><thead><tr><td style=\"font-weight: bold\">asserts</td><td style=\"font-weight: bold\">retracts</td></tr></thead><tbody><tr><td><span style=\"color: #307fc1;\">3</span></td><td><span style=\"color: #307fc1;\">0</span></td></tr></tbody></table><span style=\"color: darkgrey; font-size: xx-small; margin: 13px;\">Took 0ms</span></div>"
          },
          "metadata": {}
        }
      ]
    },
    {
      "cell_type": "markdown",
      "source": "You can insert multiple 'rows' at the same time, and the maps also allow some stylistic variations:",
      "metadata": {}
    },
    {
      "cell_type": "code",
      "source": ":tx\n\n{\"person.first_name\": \"Quin\", \"*person.nick_name\": [\"Q\", \"The Quick\"], \"person.id\": \"q\"}\n{\"person.first_name\": \"Rich\", \"person.id\": \"r\"}",
      "metadata": {
        "trusted": true
      },
      "execution_count": 12,
      "outputs": [
        {
          "execution_count": 12,
          "output_type": "execute_result",
          "data": {
            "text/html": "<div style=\"display: flex; align-items: end; flex-direction: row;\"><table><thead><tr><td style=\"font-weight: bold\">asserts</td><td style=\"font-weight: bold\">retracts</td></tr></thead><tbody><tr><td><span style=\"color: #307fc1;\">6</span></td><td><span style=\"color: #307fc1;\">0</span></td></tr></tbody></table><span style=\"color: darkgrey; font-size: xx-small; margin: 13px;\">Took 0ms</span></div>"
          },
          "metadata": {}
        }
      ]
    },
    {
      "cell_type": "markdown",
      "source": "Every entity is free to have any combination of attributes suitable for it. Note how we specified several nicknames for Quin at the same time, and Rich does not have a nickname.",
      "metadata": {}
    },
    {
      "cell_type": "markdown",
      "source": "To query the triples, use _triple rules_: these look like a list of three items, except there is no comma inside. The first slot contains the _entity id_ assigned by the system, the middle symbol is the attribute name and must be explicit (can't be a variable), and the last slot contains the value for the attribute. In fact, you should interpret the attribute name in the middle as an _operator_, that's why there are no commas around it:",
      "metadata": {}
    },
    {
      "cell_type": "code",
      "source": "?[eid, first_name, nick_name] := [eid person.nick_name nick_name], \n                                 [eid person.first_name first_name]",
      "metadata": {
        "trusted": true
      },
      "execution_count": 13,
      "outputs": [
        {
          "execution_count": 13,
          "output_type": "execute_result",
          "data": {
            "text/html": "<div style=\"display: flex; align-items: end; flex-direction: row;\"><table><thead><tr><td style=\"font-weight: bold\">eid</td><td style=\"font-weight: bold\">first_name</td><td style=\"font-weight: bold\">nick_name</td></tr></thead><tbody><tr><td>1b1dfab6-3592-11ed-b04c-96e194705b69</td><td>Peter</td><td>Pan</td></tr><tr><td>1b5e5a2a-3592-11ed-88b1-80d7c2073d1d</td><td>Quin</td><td>Q</td></tr><tr><td>1b5e5a2a-3592-11ed-88b1-80d7c2073d1d</td><td>Quin</td><td>The Quick</td></tr></tbody></table><span style=\"color: darkgrey; font-size: xx-small; margin: 13px;\">Took 0ms</span></div>"
          },
          "metadata": {}
        }
      ]
    },
    {
      "cell_type": "markdown",
      "source": "Besides the above _explicit querying_, there is another way to get attributes associated with an entity: you may specify an _pull directive_ which will expand an integer (interpreted as an entity ID) into a map containing its specified attributes. Observe:",
      "metadata": {}
    },
    {
      "cell_type": "code",
      "source": "?[pid, eid] := [eid person.id pid]\n\n:pull eid {person.first_name, person.nick_name, person.age}",
      "metadata": {
        "trusted": true
      },
      "execution_count": 14,
      "outputs": [
        {
          "execution_count": 14,
          "output_type": "execute_result",
          "data": {
            "text/html": "<div style=\"display: flex; align-items: end; flex-direction: row;\"><table><thead><tr><td style=\"font-weight: bold\">pid</td><td style=\"font-weight: bold\">eid</td></tr></thead><tbody><tr><td>p</td><td><span style=\"color: #bf5b3d;\">{&quot;_id&quot;:&quot;1b1dfab6-3592-11ed-b04c-96e194705b69&quot;,&quot;person.age&quot;:null,&quot;person.first_name&quot;:&quot;Peter&quot;,&quot;person.nick_name&quot;:[&quot;Pan&quot;]}</span></td></tr><tr><td>q</td><td><span style=\"color: #bf5b3d;\">{&quot;_id&quot;:&quot;1b5e5a2a-3592-11ed-88b1-80d7c2073d1d&quot;,&quot;person.age&quot;:null,&quot;person.first_name&quot;:&quot;Quin&quot;,&quot;person.nick_name&quot;:[&quot;Q&quot;,&quot;The Quick&quot;]}</span></td></tr><tr><td>r</td><td><span style=\"color: #bf5b3d;\">{&quot;_id&quot;:&quot;1b5e5a3e-3592-11ed-b632-9781c14b3dd9&quot;,&quot;person.age&quot;:null,&quot;person.first_name&quot;:&quot;Rich&quot;,&quot;person.nick_name&quot;:[]}</span></td></tr></tbody></table><span style=\"color: darkgrey; font-size: xx-small; margin: 13px;\">Took 0ms</span></div>"
          },
          "metadata": {}
        }
      ]
    },
    {
      "cell_type": "markdown",
      "source": "If you have several entry bindings that are entities, you can specify several `:pull` directives one after another, but each output binding can have at most one pull directive associated with it.",
      "metadata": {}
    },
    {
      "cell_type": "markdown",
      "source": "Another notable thing is that pulls always return a map, even if some of the requested attributes are missing for the entity (they are filled with `null` instead). In constrast, observe that the query not using pull directive did not return Rich, but returned Quin twice. As can be seen above, the pull also deals with to-many relationships automatically.",
      "metadata": {}
    },
    {
      "cell_type": "markdown",
      "source": "Pulls can have nested directives (see the manual for details) and can traverse `ref` triples in the reverse direction. But otherwise pull directives are kept deliberately simple. They are only intended for output processing. If you want recursions, non-trivial filters and the like, do it in the Datalog query instead.",
      "metadata": {}
    },
    {
      "cell_type": "markdown",
      "source": "Insertions in the triple store actually amounts to _assertions_ of facts. If two conflicting facts are asserted, the last one wins:",
      "metadata": {}
    },
    {
      "cell_type": "code",
      "source": ":tx\n\n{_key: ['person.id', 'p'], person.first_name: \"Pete\"}",
      "metadata": {
        "trusted": true
      },
      "execution_count": 15,
      "outputs": [
        {
          "execution_count": 15,
          "output_type": "execute_result",
          "data": {
            "text/html": "<div style=\"display: flex; align-items: end; flex-direction: row;\"><table><thead><tr><td style=\"font-weight: bold\">asserts</td><td style=\"font-weight: bold\">retracts</td></tr></thead><tbody><tr><td><span style=\"color: #307fc1;\">1</span></td><td><span style=\"color: #307fc1;\">0</span></td></tr></tbody></table><span style=\"color: darkgrey; font-size: xx-small; margin: 13px;\">Took 0ms</span></div>"
          },
          "metadata": {}
        }
      ]
    },
    {
      "cell_type": "code",
      "source": "?[pid, eid] := [eid person.id pid], pid == 'p'\n\n:pull eid {person.first_name, person.nick_name}",
      "metadata": {
        "trusted": true
      },
      "execution_count": 16,
      "outputs": [
        {
          "execution_count": 16,
          "output_type": "execute_result",
          "data": {
            "text/html": "<div style=\"display: flex; align-items: end; flex-direction: row;\"><table><thead><tr><td style=\"font-weight: bold\">pid</td><td style=\"font-weight: bold\">eid</td></tr></thead><tbody><tr><td>p</td><td><span style=\"color: #bf5b3d;\">{&quot;_id&quot;:&quot;1b1dfab6-3592-11ed-b04c-96e194705b69&quot;,&quot;person.first_name&quot;:&quot;Pete&quot;,&quot;person.nick_name&quot;:[&quot;Pan&quot;]}</span></td></tr></tbody></table><span style=\"color: darkgrey; font-size: xx-small; margin: 13px;\">Took 0ms</span></div>"
          },
          "metadata": {}
        }
      ]
    },
    {
      "cell_type": "markdown",
      "source": "Here we specified an existing entity by providing `_key` with an attribute name and a unique value for the attribute. You can only refer to entities this way if the attribute is uniquely indexed. You can also specify an entity by providing its `_id`, but if you have a unique key to use, it is often much clearer.",
      "metadata": {}
    },
    {
      "cell_type": "markdown",
      "source": "The next transaction is superficially similar to the last one. But in this case, `person.nick_name` has cardinality `many` instead of `one`:",
      "metadata": {}
    },
    {
      "cell_type": "code",
      "source": ":tx\n\n{_key: ['person.id', 'p'], person.nick_name: \"Ping\"}",
      "metadata": {
        "trusted": true
      },
      "execution_count": 17,
      "outputs": [
        {
          "execution_count": 17,
          "output_type": "execute_result",
          "data": {
            "text/html": "<div style=\"display: flex; align-items: end; flex-direction: row;\"><table><thead><tr><td style=\"font-weight: bold\">asserts</td><td style=\"font-weight: bold\">retracts</td></tr></thead><tbody><tr><td><span style=\"color: #307fc1;\">1</span></td><td><span style=\"color: #307fc1;\">0</span></td></tr></tbody></table><span style=\"color: darkgrey; font-size: xx-small; margin: 13px;\">Took 0ms</span></div>"
          },
          "metadata": {}
        }
      ]
    },
    {
      "cell_type": "code",
      "source": "?[pid, eid] := [eid person.id pid], pid == 'p'\n\n:pull eid {person.first_name, person.nick_name}",
      "metadata": {
        "trusted": true
      },
      "execution_count": 18,
      "outputs": [
        {
          "execution_count": 18,
          "output_type": "execute_result",
          "data": {
            "text/html": "<div style=\"display: flex; align-items: end; flex-direction: row;\"><table><thead><tr><td style=\"font-weight: bold\">pid</td><td style=\"font-weight: bold\">eid</td></tr></thead><tbody><tr><td>p</td><td><span style=\"color: #bf5b3d;\">{&quot;_id&quot;:&quot;1b1dfab6-3592-11ed-b04c-96e194705b69&quot;,&quot;person.first_name&quot;:&quot;Pete&quot;,&quot;person.nick_name&quot;:[&quot;Pan&quot;,&quot;Ping&quot;]}</span></td></tr></tbody></table><span style=\"color: darkgrey; font-size: xx-small; margin: 13px;\">Took 0ms</span></div>"
          },
          "metadata": {}
        }
      ]
    },
    {
      "cell_type": "markdown",
      "source": "Now the new nick name is simply recorded together with the last one. Note that if you try to add the same nickname for the same person again, you still get only one copy instead of two:",
      "metadata": {}
    },
    {
      "cell_type": "code",
      "source": ":tx\n\n{_key: ['person.id', 'p'], person.nick_name: \"Ping\"}",
      "metadata": {
        "trusted": true
      },
      "execution_count": 19,
      "outputs": [
        {
          "execution_count": 19,
          "output_type": "execute_result",
          "data": {
            "text/html": "<div style=\"display: flex; align-items: end; flex-direction: row;\"><table><thead><tr><td style=\"font-weight: bold\">asserts</td><td style=\"font-weight: bold\">retracts</td></tr></thead><tbody><tr><td><span style=\"color: #307fc1;\">1</span></td><td><span style=\"color: #307fc1;\">0</span></td></tr></tbody></table><span style=\"color: darkgrey; font-size: xx-small; margin: 13px;\">Took 0ms</span></div>"
          },
          "metadata": {}
        }
      ]
    },
    {
      "cell_type": "code",
      "source": "?[pid, eid] := [eid person.id pid], pid == 'p'\n\n:pull eid {person.first_name, person.nick_name}",
      "metadata": {
        "trusted": true
      },
      "execution_count": 20,
      "outputs": [
        {
          "execution_count": 20,
          "output_type": "execute_result",
          "data": {
            "text/html": "<div style=\"display: flex; align-items: end; flex-direction: row;\"><table><thead><tr><td style=\"font-weight: bold\">pid</td><td style=\"font-weight: bold\">eid</td></tr></thead><tbody><tr><td>p</td><td><span style=\"color: #bf5b3d;\">{&quot;_id&quot;:&quot;1b1dfab6-3592-11ed-b04c-96e194705b69&quot;,&quot;person.first_name&quot;:&quot;Pete&quot;,&quot;person.nick_name&quot;:[&quot;Pan&quot;,&quot;Ping&quot;]}</span></td></tr></tbody></table><span style=\"color: darkgrey; font-size: xx-small; margin: 13px;\">Took 0ms</span></div>"
          },
          "metadata": {}
        }
      ]
    },
    {
      "cell_type": "markdown",
      "source": "As we have seen, triples abide by set semantics instead of bag semantics as well. If you really want to have duplicates, you need to disambiguate them at the level of values, by for example wrapping them in lists.",
      "metadata": {}
    },
    {
      "cell_type": "markdown",
      "source": "To get rid of data, you perform _retractions_:",
      "metadata": {}
    },
    {
      "cell_type": "code",
      "source": ":tx\n\nretract {_key: ['person.id', 'p'], person.nick_name: \"Ping\", person.first_name: 'Peter'}",
      "metadata": {
        "trusted": true
      },
      "execution_count": 21,
      "outputs": [
        {
          "execution_count": 21,
          "output_type": "execute_result",
          "data": {
            "text/html": "<div style=\"display: flex; align-items: end; flex-direction: row;\"><table><thead><tr><td style=\"font-weight: bold\">asserts</td><td style=\"font-weight: bold\">retracts</td></tr></thead><tbody><tr><td><span style=\"color: #307fc1;\">0</span></td><td><span style=\"color: #307fc1;\">2</span></td></tr></tbody></table><span style=\"color: darkgrey; font-size: xx-small; margin: 13px;\">Took 0ms</span></div>"
          },
          "metadata": {}
        }
      ]
    },
    {
      "cell_type": "code",
      "source": "?[pid, eid] := [eid person.id pid], pid == 'p'\n\n:pull eid {person.first_name, person.nick_name, person.id}",
      "metadata": {
        "trusted": true
      },
      "execution_count": 22,
      "outputs": [
        {
          "execution_count": 22,
          "output_type": "execute_result",
          "data": {
            "text/html": "<div style=\"display: flex; align-items: end; flex-direction: row;\"><table><thead><tr><td style=\"font-weight: bold\">pid</td><td style=\"font-weight: bold\">eid</td></tr></thead><tbody><tr><td>p</td><td><span style=\"color: #bf5b3d;\">{&quot;_id&quot;:&quot;1b1dfab6-3592-11ed-b04c-96e194705b69&quot;,&quot;person.first_name&quot;:null,&quot;person.id&quot;:&quot;p&quot;,&quot;person.nick_name&quot;:[&quot;Pan&quot;]}</span></td></tr></tbody></table><span style=\"color: darkgrey; font-size: xx-small; margin: 13px;\">Took 0ms</span></div>"
          },
          "metadata": {}
        }
      ]
    },
    {
      "cell_type": "markdown",
      "source": "It is OK to retract facts that do not exist, in which case this is just a no-op. Notice that the entity still has its `person.id` attribute: the `_key` specification only indicates what entity to transact. If you want to get rid of the keyed attribute, you have to include it in the transaction map explicitly.",
      "metadata": {}
    },
    {
      "cell_type": "markdown",
      "source": "Note that when retracting facts above, we have to provide the database of values for existing triples. This can be cumbersome, especially in the case of to-many attributes --- if you someone miss one value, it will remain. Therefore another form of retraction `retract_all` is provided:",
      "metadata": {}
    },
    {
      "cell_type": "code",
      "source": ":tx\n\nretract_all {_key: ['person.id', 'p'], person.nick_name: 0, person.first_name: 0, person.id: 0}",
      "metadata": {
        "trusted": true
      },
      "execution_count": 23,
      "outputs": [
        {
          "execution_count": 23,
          "output_type": "execute_result",
          "data": {
            "text/html": "<div style=\"display: flex; align-items: end; flex-direction: row;\"><table><thead><tr><td style=\"font-weight: bold\">asserts</td><td style=\"font-weight: bold\">retracts</td></tr></thead><tbody><tr><td><span style=\"color: #307fc1;\">0</span></td><td><span style=\"color: #307fc1;\">2</span></td></tr></tbody></table><span style=\"color: darkgrey; font-size: xx-small; margin: 13px;\">Took 0ms</span></div>"
          },
          "metadata": {}
        }
      ]
    },
    {
      "cell_type": "code",
      "source": "?[pid, eid] := [eid person.id pid], pid == 'p'\n\n:pull eid {person.first_name, person.nick_name, person.id}",
      "metadata": {
        "trusted": true
      },
      "execution_count": 24,
      "outputs": [
        {
          "execution_count": 24,
          "output_type": "execute_result",
          "data": {
            "text/html": "<div style=\"display: flex; align-items: end; flex-direction: row;\"><table><thead><tr><td style=\"font-weight: bold\">pid</td><td style=\"font-weight: bold\">eid</td></tr></thead><tbody></tbody></table><span style=\"color: darkgrey; font-size: xx-small; margin: 13px;\">Took 0ms</span></div>"
          },
          "metadata": {}
        }
      ]
    },
    {
      "cell_type": "markdown",
      "source": "In this form, you can provide any value for the attributes, the database does not care and just removes all values associated with the attributes. Above we have used `0` since it is simple to type.",
      "metadata": {}
    },
    {
      "cell_type": "markdown",
      "source": "### Nested data mutations",
      "metadata": {}
    },
    {
      "cell_type": "markdown",
      "source": "We have so far inserted data in units of entities. This is fine for simple cases, but can become awkward for tree or graph shaped data which are linked together in non-trivial ways. We would need to insert some triples first, get ids of some entities (or use their unique keys), and use these to insert other triples.",
      "metadata": {}
    },
    {
      "cell_type": "markdown",
      "source": "Instead, Cozo supports nested data insertion. Let's insert our whole love triangle graph all at once.",
      "metadata": {}
    },
    {
      "cell_type": "markdown",
      "source": "Recall that our love triangles are:",
      "metadata": {}
    },
    {
      "cell_type": "code",
      "source": "?[] <- [['alice', 'eve'],\n        ['bob', 'alice'],\n        ['eve', 'alice'],\n        ['eve', 'bob'],\n        ['eve', 'charlie'],\n        ['charlie', 'eve'],\n        ['david', 'george'],\n        ['george', 'george']]",
      "metadata": {
        "trusted": true
      },
      "execution_count": 25,
      "outputs": [
        {
          "execution_count": 25,
          "output_type": "execute_result",
          "data": {
            "text/html": "<div style=\"display: flex; align-items: end; flex-direction: row;\"><table><tbody><tr><td>alice</td><td>eve</td></tr><tr><td>bob</td><td>alice</td></tr><tr><td>charlie</td><td>eve</td></tr><tr><td>david</td><td>george</td></tr><tr><td>eve</td><td>alice</td></tr><tr><td>eve</td><td>bob</td></tr><tr><td>eve</td><td>charlie</td></tr><tr><td>george</td><td>george</td></tr></tbody></table><span style=\"color: darkgrey; font-size: xx-small; margin: 13px;\">Took 0ms</span></div>"
          },
          "metadata": {}
        }
      ]
    },
    {
      "cell_type": "markdown",
      "source": "We insert them into the triple store thus:",
      "metadata": {}
    },
    {
      "cell_type": "code",
      "source": ":tx\n\n{\n    _tid: 'a', \n    person.id: 'a', \n    person.first_name: 'Alice',\n    person.loves: {\n        _tid: 'e',\n        person.id: 'e',\n        person.first_name: 'Eve',\n        *person.loves: [\n            'a',\n            {\n                _tid: 'b',\n                person.id: 'b',\n                person.first_name: 'Bob',\n                person.loves: 'a'\n            },\n            {\n                _tid: 'c',\n                person.id: 'c',\n                person.first_name: 'Charlie',\n                person.loves: 'e'\n            }\n        ]\n    }\n}\n\n{person.id: 'd', person.first_name: 'David', person.loves: 'g'}\n{_tid: 'g', person.id: 'g', person.first_name: 'George', person.loves: 'g'}",
      "metadata": {
        "trusted": true
      },
      "execution_count": 26,
      "outputs": [
        {
          "execution_count": 26,
          "output_type": "execute_result",
          "data": {
            "text/html": "<div style=\"display: flex; align-items: end; flex-direction: row;\"><table><thead><tr><td style=\"font-weight: bold\">asserts</td><td style=\"font-weight: bold\">retracts</td></tr></thead><tbody><tr><td><span style=\"color: #307fc1;\">20</span></td><td><span style=\"color: #307fc1;\">0</span></td></tr></tbody></table><span style=\"color: darkgrey; font-size: xx-small; margin: 13px;\">Took 1ms</span></div>"
          },
          "metadata": {}
        }
      ]
    },
    {
      "cell_type": "markdown",
      "source": "Nested mutations are done simply by using maps for `ref` attribute values. We identified entities that do not yet exist in the database by their `_tid` given inline. `_tid`s can be any string you like _except_ strings that can be interpreted as UUIDs. As before, an asterisk `*` before the attribute name denotes that we are transacting multiple triples into an attribute. As the last two maps in the example shows, you do not need `_tid` if you do not need to refer to an entity, and you can use `_tid` to refer to an entity itself.",
      "metadata": {}
    },
    {
      "cell_type": "markdown",
      "source": "Let's see if we get the same results querying the triple store:",
      "metadata": {}
    },
    {
      "cell_type": "code",
      "source": "?[loving, loved] := [a person.first_name loving], \n                    [a person.loves b], \n                    [b person.first_name loved]",
      "metadata": {
        "trusted": true
      },
      "execution_count": 27,
      "outputs": [
        {
          "execution_count": 27,
          "output_type": "execute_result",
          "data": {
            "text/html": "<div style=\"display: flex; align-items: end; flex-direction: row;\"><table><thead><tr><td style=\"font-weight: bold\">loving</td><td style=\"font-weight: bold\">loved</td></tr></thead><tbody><tr><td>Alice</td><td>Eve</td></tr><tr><td>Bob</td><td>Alice</td></tr><tr><td>Charlie</td><td>Eve</td></tr><tr><td>David</td><td>George</td></tr><tr><td>Eve</td><td>Alice</td></tr><tr><td>Eve</td><td>Bob</td></tr><tr><td>Eve</td><td>Charlie</td></tr><tr><td>George</td><td>George</td></tr></tbody></table><span style=\"color: darkgrey; font-size: xx-small; margin: 13px;\">Took 0ms</span></div>"
          },
          "metadata": {}
        }
      ]
    },
    {
      "cell_type": "markdown",
      "source": "Nice!",
      "metadata": {}
    },
    {
      "cell_type": "markdown",
      "source": "### A note on the entity ID",
      "metadata": {}
    },
    {
      "cell_type": "markdown",
      "source": "As you have probably already noticed, the database assigns UUIDs as entity IDs automatically when we created the entities. You can also create the IDs yourself when doing the creation for more control:",
      "metadata": {}
    },
    {
      "cell_type": "code",
      "source": ":tx\n\n{_id: '4e7a35b9-e04d-48a3-9eeb-d8a68ef33c43', person.id: 'u', person.first_name: 'Ursula'}",
      "metadata": {
        "trusted": true
      },
      "execution_count": 28,
      "outputs": [
        {
          "execution_count": 28,
          "output_type": "execute_result",
          "data": {
            "text/html": "<div style=\"display: flex; align-items: end; flex-direction: row;\"><table><thead><tr><td style=\"font-weight: bold\">asserts</td><td style=\"font-weight: bold\">retracts</td></tr></thead><tbody><tr><td><span style=\"color: #307fc1;\">2</span></td><td><span style=\"color: #307fc1;\">0</span></td></tr></tbody></table><span style=\"color: darkgrey; font-size: xx-small; margin: 13px;\">Took 0ms</span></div>"
          },
          "metadata": {}
        }
      ]
    },
    {
      "cell_type": "code",
      "source": "?[p] <- [['4e7a35b9-e04d-48a3-9eeb-d8a68ef33c43']]\n\n:pull p { person.first_name, person.id }",
      "metadata": {
        "trusted": true
      },
      "execution_count": 29,
      "outputs": [
        {
          "execution_count": 29,
          "output_type": "execute_result",
          "data": {
            "text/html": "<div style=\"display: flex; align-items: end; flex-direction: row;\"><table><thead><tr><td style=\"font-weight: bold\">p</td></tr></thead><tbody><tr><td><span style=\"color: #bf5b3d;\">{&quot;_id&quot;:&quot;4e7a35b9-e04d-48a3-9eeb-d8a68ef33c43&quot;,&quot;person.first_name&quot;:&quot;Ursula&quot;,&quot;person.id&quot;:&quot;u&quot;}</span></td></tr></tbody></table><span style=\"color: darkgrey; font-size: xx-small; margin: 13px;\">Took 0ms</span></div>"
          },
          "metadata": {}
        }
      ]
    },
    {
      "cell_type": "markdown",
      "source": "The system-assigned IDs are UUID version 1 and is contains a timestamp. You can extract the timestamp by using the function `uuid_timestamp`:",
      "metadata": {}
    },
    {
      "cell_type": "code",
      "source": "?[pid, ts] := [p person.id pid], ts <- uuid_timestamp(p)",
      "metadata": {
        "trusted": true
      },
      "execution_count": 30,
      "outputs": [
        {
          "execution_count": 30,
          "output_type": "execute_result",
          "data": {
            "text/html": "<div style=\"display: flex; align-items: end; flex-direction: row;\"><table><thead><tr><td style=\"font-weight: bold\">pid</td><td style=\"font-weight: bold\">ts</td></tr></thead><tbody><tr><td>a</td><td><span style=\"color: #307fc1;\">1663313732.684265</span></td></tr><tr><td>b</td><td><span style=\"color: #307fc1;\">1663313732.684268</span></td></tr><tr><td>c</td><td><span style=\"color: #307fc1;\">1663313732.684268</span></td></tr><tr><td>d</td><td><span style=\"color: #307fc1;\">1663313732.684269</span></td></tr><tr><td>e</td><td><span style=\"color: #307fc1;\">1663313732.684267</span></td></tr><tr><td>g</td><td><span style=\"color: #307fc1;\">1663313732.684269</span></td></tr><tr><td>q</td><td><span style=\"color: #307fc1;\">1663313715.9019048</span></td></tr><tr><td>r</td><td><span style=\"color: #307fc1;\">1663313715.901907</span></td></tr><tr><td>u</td><td><span style=\"color: #bf5b3d;\">null</span></td></tr></tbody></table><span style=\"color: darkgrey; font-size: xx-small; margin: 13px;\">Took 0ms</span></div>"
          },
          "metadata": {}
        }
      ]
    },
    {
      "cell_type": "markdown",
      "source": "The returned numbers indicate seconds since the UNIX epoch. The UUID we made ourselves does not contain a timestamp as it is of version 4. You can provide any valid UUID as entity ID except the 'nil ID' `00000000-0000-0000-0000-000000000000`:",
      "metadata": {}
    },
    {
      "cell_type": "code",
      "source": ":tx\n\n{_id: '00000000-0000-0000-0000-000000000000', person.id: '0', person.first_name: 'I am ZERO'}",
      "metadata": {
        "trusted": true
      },
      "execution_count": 31,
      "outputs": [
        {
          "execution_count": 31,
          "output_type": "execute_result",
          "data": {
            "text/html": "<pre style=\"font-size: small\"><span style='color:#a00'>eval::amend_triple_with_reserved_id</span>\n\n  <span style='color:#a00'>×</span> Attempting to amend triple person.id via reserved ID 00000000-0000-0000-0000-000000000000\n</pre>"
          },
          "metadata": {}
        }
      ]
    },
    {
      "cell_type": "markdown",
      "source": "Using the timestamped version has performance benefits: the database sorts UUIDs in a way such that those with similar timestamps are near each other. This provides the kind of data locality similar to an auto-incrementing integer key in a RDBMS, while mitigating the risk of malicious users trying to iterate over your data sequentially, or estimating the cardinality of your data. The UUIDs generated by the system contain only random bits besides the timestamp, in particular there is no node information encoded with them (as allowed but not required by the UUID specification), so users cannot tell on which machine the IDs were generated either. Still, if you want your keys to be completely obscure, provide your own UUIDv4 backed by a good random number generator.",
      "metadata": {}
    },
    {
      "cell_type": "markdown",
      "source": "## The time machine",
      "metadata": {
        "tags": []
      }
    },
    {
      "cell_type": "markdown",
      "source": "Your data is changing fast. For administrative or regulative reasons, you may also need records of _how_ your data change. Or you may be presented with historical data in the first place, and you want your queries to reflect facts _at a particular instant of time_.",
      "metadata": {}
    },
    {
      "cell_type": "markdown",
      "source": "Someone used to say that 'more columns in a RDBMS solves anything'. In our case, maybe adding more attributes helps? Let's add to each entity the attribute `valid_at` indicating when the entity is considered valid.",
      "metadata": {}
    },
    {
      "cell_type": "markdown",
      "source": "In fact, this is doable, but the resulting system is a total pain to use. First, you will need to _reify_ most of your values. Instead of saying that `[bob person.name 'Bob']`, you need something like `[bob person.used_name name]`, where `[name name.is_spelled 'Bob']` and `[name name.is_valid_at '2020-03-04']`, etc. Next, how are you going to find our what everything was at a particular moment? You cannot use equality conditions to filter entities based on `is_valid_at`, since something that was introduced in 1999 is still valid in 2020, _unless_ some other fact supercedes it or it was retracted _after_ 1999. And we are only after the latest valid fact, not all historical facts at a point in time. Fulfilling these requirements _is_ possible in Cozo with aggregations, but they add a huge amount of complexities to the queries for something that was intuitively very simple.",
      "metadata": {}
    },
    {
      "cell_type": "markdown",
      "source": "To solve this particular problem, which occurs more common than you might think, Cozo has built-in support for historical facts. This functionality carries a non-trivial performance penalty, so you have to request it explicitly for each attribute. And like other properties of attributes, whether it has history support is immutable. If you change your mind, you need to define a new attribute and copy data over, as usual.\n\nIf you are already worried about performance, let's assure you that it is MUCH MORE performant than the hand-rolled solution indicated above. In fact, querying a history-enabled attribute is about $c \\log n$ times slower than the corresponding query for a non-history-enabled attribute, where $c$ is a constant and $n$ is the number of historical facts a given entity-attribute pair has. The logarithmic complexity beats any simple-minded implementation.",
      "metadata": {}
    },
    {
      "cell_type": "markdown",
      "source": "Let's have some examples. We want to store countries and their heads of states. The schema:",
      "metadata": {}
    },
    {
      "cell_type": "code",
      "source": ":schema\n\nput country {\n    name: string unique,\n    head: string index history,\n}",
      "metadata": {
        "trusted": true
      },
      "execution_count": 102,
      "outputs": [
        {
          "execution_count": 102,
          "output_type": "execute_result",
          "data": {
            "text/html": "<div style=\"display: flex; align-items: end; flex-direction: row;\"><table><thead><tr><td style=\"font-weight: bold\">attr_id</td><td style=\"font-weight: bold\">op</td></tr></thead><tbody><tr><td><span style=\"color: #307fc1;\">10000001</span></td><td>assert</td></tr><tr><td><span style=\"color: #307fc1;\">10000002</span></td><td>assert</td></tr></tbody></table><span style=\"color: darkgrey; font-size: xx-small; margin: 13px;\">Took 0ms</span></div>"
          },
          "metadata": {}
        }
      ]
    },
    {
      "cell_type": "markdown",
      "source": "For simplicity we assumed a country's name does not change, but obviously its head of state will change, indicated by the modifier `history`. That's actually all you need for the schema.",
      "metadata": {}
    },
    {
      "cell_type": "markdown",
      "source": "Now let's insert some data. You can actually insert data as you do before:",
      "metadata": {}
    },
    {
      "cell_type": "code",
      "source": ":tx\n\nput {country.name: 'US', country.head: 'Biden'}\n{country.name: 'UK', country.head: 'Truss'}",
      "metadata": {
        "trusted": true
      },
      "execution_count": 103,
      "outputs": [
        {
          "execution_count": 103,
          "output_type": "execute_result",
          "data": {
            "text/html": "<div style=\"display: flex; align-items: end; flex-direction: row;\"><table><thead><tr><td style=\"font-weight: bold\">asserts</td><td style=\"font-weight: bold\">retracts</td></tr></thead><tbody><tr><td><span style=\"color: #307fc1;\">4</span></td><td><span style=\"color: #307fc1;\">0</span></td></tr></tbody></table><span style=\"color: darkgrey; font-size: xx-small; margin: 13px;\">Took 0ms</span></div>"
          },
          "metadata": {}
        }
      ]
    },
    {
      "cell_type": "code",
      "source": "?[country, head] := [c country.name country], [c country.head head]",
      "metadata": {
        "trusted": true
      },
      "execution_count": 104,
      "outputs": [
        {
          "execution_count": 104,
          "output_type": "execute_result",
          "data": {
            "text/html": "<div style=\"display: flex; align-items: end; flex-direction: row;\"><table><thead><tr><td style=\"font-weight: bold\">country</td><td style=\"font-weight: bold\">head</td></tr></thead><tbody><tr><td>UK</td><td>Truss</td></tr><tr><td>US</td><td>Biden</td></tr></tbody></table><span style=\"color: darkgrey; font-size: xx-small; margin: 13px;\">Took 0ms</span></div>"
          },
          "metadata": {}
        }
      ]
    },
    {
      "cell_type": "markdown",
      "source": "By the way, we showed that you can explicitly tell the system that you are doing `put`.",
      "metadata": {}
    },
    {
      "cell_type": "markdown",
      "source": "Now let's add in the historical data:",
      "metadata": {}
    },
    {
      "cell_type": "code",
      "source": ":tx\n\n@'2019-07-24' {_key: ['country.name', 'UK'], country.head: 'Johnson'}\nput @ '2017-01-20' {_key: ['country.name', 'US'], country.head: 'Trump'}",
      "metadata": {
        "trusted": true
      },
      "execution_count": 105,
      "outputs": [
        {
          "execution_count": 105,
          "output_type": "execute_result",
          "data": {
            "text/html": "<div style=\"display: flex; align-items: end; flex-direction: row;\"><table><thead><tr><td style=\"font-weight: bold\">asserts</td><td style=\"font-weight: bold\">retracts</td></tr></thead><tbody><tr><td><span style=\"color: #307fc1;\">2</span></td><td><span style=\"color: #307fc1;\">0</span></td></tr></tbody></table><span style=\"color: darkgrey; font-size: xx-small; margin: 13px;\">Took 0ms</span></div>"
          },
          "metadata": {}
        }
      ]
    },
    {
      "cell_type": "markdown",
      "source": "The syntax should explain itself. You can specify the date in ISO 8601 format, in which case it is interpreted as a timestamp at the stated date at midnight UTC, or as RFC 3339 format such as `'1996-12-19T16:39:57-08:00'`, or as an integer indicating the number of _microseconds_ since the UNIX epoch (negative numbers for before). Let's see who are the heads of states _now_:",
      "metadata": {}
    },
    {
      "cell_type": "code",
      "source": "?[country, head] := [c country.name country], [c country.head head]",
      "metadata": {
        "trusted": true
      },
      "execution_count": 106,
      "outputs": [
        {
          "execution_count": 106,
          "output_type": "execute_result",
          "data": {
            "text/html": "<div style=\"display: flex; align-items: end; flex-direction: row;\"><table><thead><tr><td style=\"font-weight: bold\">country</td><td style=\"font-weight: bold\">head</td></tr></thead><tbody><tr><td>UK</td><td>Truss</td></tr><tr><td>US</td><td>Biden</td></tr></tbody></table><span style=\"color: darkgrey; font-size: xx-small; margin: 13px;\">Took 0ms</span></div>"
          },
          "metadata": {}
        }
      ]
    },
    {
      "cell_type": "markdown",
      "source": "As expected, the historical data does not affect facts now.",
      "metadata": {}
    },
    {
      "cell_type": "markdown",
      "source": "Let's explicitly request historical facts:",
      "metadata": {}
    },
    {
      "cell_type": "code",
      "source": "?[country, head] @ '2020-01-01' := [c country.name country], [c country.head head]",
      "metadata": {
        "trusted": true
      },
      "execution_count": 107,
      "outputs": [
        {
          "execution_count": 107,
          "output_type": "execute_result",
          "data": {
            "text/html": "<div style=\"display: flex; align-items: end; flex-direction: row;\"><table><thead><tr><td style=\"font-weight: bold\">country</td><td style=\"font-weight: bold\">head</td></tr></thead><tbody><tr><td>UK</td><td>Johnson</td></tr><tr><td>US</td><td>Trump</td></tr></tbody></table><span style=\"color: darkgrey; font-size: xx-small; margin: 13px;\">Took 0ms</span></div>"
          },
          "metadata": {}
        }
      ]
    },
    {
      "cell_type": "markdown",
      "source": "Right. Try another one:",
      "metadata": {}
    },
    {
      "cell_type": "code",
      "source": "?[country, head] @ '2022-01-01' := [c country.name country], [c country.head head]",
      "metadata": {
        "trusted": true
      },
      "execution_count": 108,
      "outputs": [
        {
          "execution_count": 108,
          "output_type": "execute_result",
          "data": {
            "text/html": "<div style=\"display: flex; align-items: end; flex-direction: row;\"><table><thead><tr><td style=\"font-weight: bold\">country</td><td style=\"font-weight: bold\">head</td></tr></thead><tbody><tr><td>UK</td><td>Johnson</td></tr><tr><td>US</td><td>Trump</td></tr></tbody></table><span style=\"color: darkgrey; font-size: xx-small; margin: 13px;\">Took 0ms</span></div>"
          },
          "metadata": {}
        }
      ]
    },
    {
      "cell_type": "markdown",
      "source": "Umm ... that doesn't look right. The problem is, when we inserted facts about Biden and Truss, we did not tell the system when that fact starts being valid, so the system assumes the current timestamp. Let's fix that:",
      "metadata": {}
    },
    {
      "cell_type": "code",
      "source": ":tx\n\n@'2022-09-05' {_key: ['country.name', 'UK'], country.head: 'Truss'}\n@'2021-01-20' {_key: ['country.name', 'US'], country.head: 'Biden'}",
      "metadata": {
        "trusted": true
      },
      "execution_count": 109,
      "outputs": [
        {
          "execution_count": 109,
          "output_type": "execute_result",
          "data": {
            "text/html": "<div style=\"display: flex; align-items: end; flex-direction: row;\"><table><thead><tr><td style=\"font-weight: bold\">asserts</td><td style=\"font-weight: bold\">retracts</td></tr></thead><tbody><tr><td><span style=\"color: #307fc1;\">2</span></td><td><span style=\"color: #307fc1;\">0</span></td></tr></tbody></table><span style=\"color: darkgrey; font-size: xx-small; margin: 13px;\">Took 0ms</span></div>"
          },
          "metadata": {}
        }
      ]
    },
    {
      "cell_type": "code",
      "source": "?[country, head] @ '2022-01-01' := [c country.name country], [c country.head head]",
      "metadata": {
        "trusted": true
      },
      "execution_count": 110,
      "outputs": [
        {
          "execution_count": 110,
          "output_type": "execute_result",
          "data": {
            "text/html": "<div style=\"display: flex; align-items: end; flex-direction: row;\"><table><thead><tr><td style=\"font-weight: bold\">country</td><td style=\"font-weight: bold\">head</td></tr></thead><tbody><tr><td>UK</td><td>Johnson</td></tr><tr><td>US</td><td>Biden</td></tr></tbody></table><span style=\"color: darkgrey; font-size: xx-small; margin: 13px;\">Took 0ms</span></div>"
          },
          "metadata": {}
        }
      ]
    },
    {
      "cell_type": "markdown",
      "source": "That's more accurate. What about the future?",
      "metadata": {}
    },
    {
      "cell_type": "code",
      "source": "?[country, head] @ '9999-01-01' := [c country.name country], [c country.head head]",
      "metadata": {
        "trusted": true
      },
      "execution_count": 111,
      "outputs": [
        {
          "execution_count": 111,
          "output_type": "execute_result",
          "data": {
            "text/html": "<div style=\"display: flex; align-items: end; flex-direction: row;\"><table><thead><tr><td style=\"font-weight: bold\">country</td><td style=\"font-weight: bold\">head</td></tr></thead><tbody><tr><td>UK</td><td>Truss</td></tr><tr><td>US</td><td>Biden</td></tr></tbody></table><span style=\"color: darkgrey; font-size: xx-small; margin: 13px;\">Took 0ms</span></div>"
          },
          "metadata": {}
        }
      ]
    },
    {
      "cell_type": "markdown",
      "source": "Wow, that can't happen no matter what the world is coming to. We fix that by _retracting_ facts as before, but with a timestamp attached (we will use a _very_ generous timestamp):",
      "metadata": {}
    },
    {
      "cell_type": "code",
      "source": ":tx\n\nretract_all @ '2099-01-01' {_key: ['country.name', 'UK'], country.head: 0}\nretract_all @ '2099-01-01' {_key: ['country.name', 'US'], country.head: 0}",
      "metadata": {
        "trusted": true
      },
      "execution_count": 112,
      "outputs": [
        {
          "execution_count": 112,
          "output_type": "execute_result",
          "data": {
            "text/html": "<div style=\"display: flex; align-items: end; flex-direction: row;\"><table><thead><tr><td style=\"font-weight: bold\">asserts</td><td style=\"font-weight: bold\">retracts</td></tr></thead><tbody><tr><td><span style=\"color: #307fc1;\">0</span></td><td><span style=\"color: #307fc1;\">6</span></td></tr></tbody></table><span style=\"color: darkgrey; font-size: xx-small; margin: 13px;\">Took 0ms</span></div>"
          },
          "metadata": {}
        }
      ]
    },
    {
      "cell_type": "code",
      "source": "?[country, head] @ '9999-01-01' := [c country.name country], [c country.head head]",
      "metadata": {
        "trusted": true
      },
      "execution_count": 113,
      "outputs": [
        {
          "execution_count": 113,
          "output_type": "execute_result",
          "data": {
            "text/html": "<div style=\"display: flex; align-items: end; flex-direction: row;\"><table><thead><tr><td style=\"font-weight: bold\">country</td><td style=\"font-weight: bold\">head</td></tr></thead><tbody></tbody></table><span style=\"color: darkgrey; font-size: xx-small; margin: 13px;\">Took 0ms</span></div>"
          },
          "metadata": {}
        }
      ]
    },
    {
      "cell_type": "markdown",
      "source": "Good. What about now, again?",
      "metadata": {}
    },
    {
      "cell_type": "code",
      "source": "?[country, head] := [c country.name country], [c country.head head]",
      "metadata": {
        "trusted": true
      },
      "execution_count": 114,
      "outputs": [
        {
          "execution_count": 114,
          "output_type": "execute_result",
          "data": {
            "text/html": "<div style=\"display: flex; align-items: end; flex-direction: row;\"><table><thead><tr><td style=\"font-weight: bold\">country</td><td style=\"font-weight: bold\">head</td></tr></thead><tbody><tr><td>UK</td><td>Truss</td></tr><tr><td>US</td><td>Biden</td></tr></tbody></table><span style=\"color: darkgrey; font-size: xx-small; margin: 13px;\">Took 0ms</span></div>"
          },
          "metadata": {}
        }
      ]
    },
    {
      "cell_type": "markdown",
      "source": "And history?",
      "metadata": {}
    },
    {
      "cell_type": "code",
      "source": "?[country, head] @ '2018-01-01' := [c country.name country], [c country.head head]",
      "metadata": {
        "trusted": true
      },
      "execution_count": 115,
      "outputs": [
        {
          "execution_count": 115,
          "output_type": "execute_result",
          "data": {
            "text/html": "<div style=\"display: flex; align-items: end; flex-direction: row;\"><table><thead><tr><td style=\"font-weight: bold\">country</td><td style=\"font-weight: bold\">head</td></tr></thead><tbody><tr><td>US</td><td>Trump</td></tr></tbody></table><span style=\"color: darkgrey; font-size: xx-small; margin: 13px;\">Took 0ms</span></div>"
          },
          "metadata": {}
        }
      ]
    },
    {
      "cell_type": "markdown",
      "source": "UK is missing since we have yet to enter the head of state for UK at this period into the database. Fix it:",
      "metadata": {}
    },
    {
      "cell_type": "code",
      "source": ":tx\n\n@'2016-07-11' {_key: ['country.name', 'UK'], country.head: 'May'}",
      "metadata": {
        "trusted": true
      },
      "execution_count": 116,
      "outputs": [
        {
          "execution_count": 116,
          "output_type": "execute_result",
          "data": {
            "text/html": "<div style=\"display: flex; align-items: end; flex-direction: row;\"><table><thead><tr><td style=\"font-weight: bold\">asserts</td><td style=\"font-weight: bold\">retracts</td></tr></thead><tbody><tr><td><span style=\"color: #307fc1;\">1</span></td><td><span style=\"color: #307fc1;\">0</span></td></tr></tbody></table><span style=\"color: darkgrey; font-size: xx-small; margin: 13px;\">Took 0ms</span></div>"
          },
          "metadata": {}
        }
      ]
    },
    {
      "cell_type": "markdown",
      "source": "One thing if it is not already obvious: timestamps apply at the level of rules, not queries, so you can have a different timestamp for each rule:",
      "metadata": {}
    },
    {
      "cell_type": "code",
      "source": "?[year, country, head] @ '2019-01-01' := year <-  2019, [c country.name country], [c country.head head]\n?[year, country, head] @ '2022-01-01' := year <-  2022, [c country.name country], [c country.head head]\n?[year, country, head] /* ~~NoW!~~ */ := year <- 'now', [c country.name country], [c country.head head]",
      "metadata": {
        "trusted": true
      },
      "execution_count": 121,
      "outputs": [
        {
          "execution_count": 121,
          "output_type": "execute_result",
          "data": {
            "text/html": "<div style=\"display: flex; align-items: end; flex-direction: row;\"><table><thead><tr><td style=\"font-weight: bold\">year</td><td style=\"font-weight: bold\">country</td><td style=\"font-weight: bold\">head</td></tr></thead><tbody><tr><td><span style=\"color: #307fc1;\">2019</span></td><td>UK</td><td>May</td></tr><tr><td><span style=\"color: #307fc1;\">2019</span></td><td>US</td><td>Trump</td></tr><tr><td><span style=\"color: #307fc1;\">2022</span></td><td>UK</td><td>Johnson</td></tr><tr><td><span style=\"color: #307fc1;\">2022</span></td><td>US</td><td>Biden</td></tr><tr><td>now</td><td>UK</td><td>Truss</td></tr><tr><td>now</td><td>US</td><td>Biden</td></tr></tbody></table><span style=\"color: darkgrey; font-size: xx-small; margin: 13px;\">Took 0ms</span></div>"
          },
          "metadata": {}
        }
      ]
    },
    {
      "cell_type": "markdown",
      "source": "The timestamp is also not required to represent actual time. You can `put` data by giving them integer timestamps with custom interpretation, and query them using the same interpretation. Just don't mix your fictional time and real time.",
      "metadata": {}
    },
    {
      "cell_type": "markdown",
      "source": "A final API before we are done with this time-travelling thing.",
      "metadata": {}
    },
    {
      "cell_type": "code",
      "source": "",
      "metadata": {},
      "execution_count": null,
      "outputs": []
    }
  ]
}