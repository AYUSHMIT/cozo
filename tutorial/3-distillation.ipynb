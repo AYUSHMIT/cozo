{
  "metadata": {
    "language_info": {
      "codemirror_mode": {
        "name": "text/plain"
      },
      "file_extension": ".txt",
      "mimetype": "text/plain",
      "name": "cozo",
      "nbconvert_exporter": "text",
      "pygments_lexer": "text",
      "version": "es2017"
    },
    "kernelspec": {
      "name": "cozo",
      "display_name": "CozoScript (localhost)",
      "language": "text"
    }
  },
  "nbformat_minor": 4,
  "nbformat": 4,
  "cells": [
    {
      "cell_type": "markdown",
      "source": "# The distillation",
      "metadata": {}
    },
    {
      "cell_type": "markdown",
      "source": "Welcome back! You already know how to use simple Datalog queries and stored relations in Cozo, and you have learned the intricacies of schema-based triple stores. Today we are going to learn about aggregations and algorithms.\n\nBefore we start, we need to get some data into the database so that we can play with them. Instead of sesame-seed-sized inline data we used the last few times, today we are moving towards peanut-sized data. The data we are going to use, and many examples that we will present, are adapted from the book [Practical Gremlin](https://kelvinlawrence.net/book/Gremlin-Graph-Guide.html), which teaches the Gremlin graph query language, a very different, imperative take on graphs (Datalog, by constrast, is declarative). It is always a good idea to explore different options for your problem and to decide for yourself which tool is best for you.",
      "metadata": {}
    },
    {
      "cell_type": "markdown",
      "source": "We start by defining the schema we need:",
      "metadata": {}
    },
    {
      "cell_type": "code",
      "source": ":schema\n\nput country {\n    code: string unique,\n    desc: string\n}\n\nput continent {\n    code: string unique,\n    desc: string\n}\n\nput airport {\n    iata: string unique,\n    icao: string index,\n    city: string index,\n    desc: string,\n    region: string index,\n    country: ref,\n    runways: int,\n    longest: int,\n    altitude: int,\n    lat: float,\n    lon: float\n}\n\nput route {\n    src: ref,\n    dst: ref,\n    distance: int\n}\n\nput geo {\n    contains: ref many,\n}",
      "metadata": {
        "trusted": true
      },
      "execution_count": 2,
      "outputs": [
        {
          "execution_count": 2,
          "output_type": "execute_result",
          "data": {
            "text/html": "<pre style=\"font-size: small\"><span style='color:#a00'>eval::attr_name_conflict</span>\n\n  <span style='color:#a00'>×</span> Attribute name country.code conflicts with an existing name\n</pre>"
          },
          "metadata": {}
        }
      ]
    },
    {
      "cell_type": "markdown",
      "source": "We intend the entities to be countries, continents, airports and routes. The attribute `geo.contains` denotes geographical inclusion. In our case, the `src` and `dst` of a `route` are always airport entities. Airports are uniquely identified by their `iata` code, and contain a slew of other attributes including latitudes and longitudes.",
      "metadata": {}
    },
    {
      "cell_type": "markdown",
      "source": "For the actual data, there is a problem: though peanut-sized by today's standard, the data still contains over 61k lines of JSON objects, some of which are quite long lines (yes, each line in the tx script is a valid JSON object). If you enter that into the JupyterLite web interface, your browser will freeze (mine did, anyway). That's why, for the playground, Cozo has the ability to execute scripts on your local file system. This sounds like a big security hole and it is, so it is disabled outside the playground.",
      "metadata": {}
    },
    {
      "cell_type": "markdown",
      "source": "Now download the data, look over it to see what it contains, put it somewhere on your hard drive (we recommend next to the `cozoserver` executable so that the following script works verbatim) and run:",
      "metadata": {}
    },
    {
      "cell_type": "code",
      "source": ":db execute '../tests/air-routes-data.json'",
      "metadata": {
        "trusted": true
      },
      "execution_count": 5,
      "outputs": [
        {
          "execution_count": 5,
          "output_type": "execute_result",
          "data": {
            "text/html": "<div style=\"display: flex; align-items: end; flex-direction: row;\"><table><thead><tr><td style=\"font-weight: bold\">asserts</td><td style=\"font-weight: bold\">retracts</td></tr></thead><tbody><tr><td><span style=\"color: #307fc1;\">197646</span></td><td><span style=\"color: #307fc1;\">0</span></td></tr></tbody></table><span style=\"color: darkgrey; font-size: xx-small; margin: 13px;\">Took 5608ms</span></div>"
          },
          "metadata": {}
        }
      ]
    },
    {
      "cell_type": "markdown",
      "source": "The execution should not take to long. When it's done, we are set.",
      "metadata": {}
    },
    {
      "cell_type": "markdown",
      "source": "## Exploratory data analysis",
      "metadata": {}
    },
    {
      "cell_type": "markdown",
      "source": "The data is new to us. First we need to see what it looks like. Let's start with airports.",
      "metadata": {}
    },
    {
      "cell_type": "code",
      "source": "?[iata, city, desc, region, runways, lat, lon] := \n    [a airport.iata iata],\n    [a airport.city city],\n    [a airport.desc desc],\n    [a airport.region region],\n    [a airport.runways runways],\n    [a airport.lat lat],\n    [a airport.lon lon]\n    \n:limit 5",
      "metadata": {
        "trusted": true
      },
      "execution_count": 8,
      "outputs": [
        {
          "execution_count": 8,
          "output_type": "execute_result",
          "data": {
            "text/html": "<div style=\"display: flex; align-items: end; flex-direction: row;\"><table><thead><tr><td style=\"font-weight: bold\">iata</td><td style=\"font-weight: bold\">city</td><td style=\"font-weight: bold\">desc</td><td style=\"font-weight: bold\">region</td><td style=\"font-weight: bold\">runways</td><td style=\"font-weight: bold\">lat</td><td style=\"font-weight: bold\">lon</td></tr></thead><tbody><tr><td>ANC</td><td>Anchorage</td><td>Anchorage Ted Stevens</td><td>US-AK</td><td><span style=\"color: #307fc1;\">3</span></td><td><span style=\"color: #307fc1;\">61.1744003295898</span></td><td><span style=\"color: #307fc1;\">-149.996002197266</span></td></tr><tr><td>ATL</td><td>Atlanta</td><td>Hartsfield - Jackson Atlanta International Airport</td><td>US-GA</td><td><span style=\"color: #307fc1;\">5</span></td><td><span style=\"color: #307fc1;\">33.6366996765137</span></td><td><span style=\"color: #307fc1;\">-84.4281005859375</span></td></tr><tr><td>AUS</td><td>Austin</td><td>Austin Bergstrom International Airport</td><td>US-TX</td><td><span style=\"color: #307fc1;\">2</span></td><td><span style=\"color: #307fc1;\">30.1944999694824</span></td><td><span style=\"color: #307fc1;\">-97.6698989868164</span></td></tr><tr><td>BNA</td><td>Nashville</td><td>Nashville International Airport</td><td>US-TN</td><td><span style=\"color: #307fc1;\">4</span></td><td><span style=\"color: #307fc1;\">36.1245002746582</span></td><td><span style=\"color: #307fc1;\">-86.6781997680664</span></td></tr><tr><td>BOS</td><td>Boston</td><td>Boston Logan</td><td>US-MA</td><td><span style=\"color: #307fc1;\">6</span></td><td><span style=\"color: #307fc1;\">42.36429977</span></td><td><span style=\"color: #307fc1;\">-71.00520325</span></td></tr></tbody></table><span style=\"color: darkgrey; font-size: xx-small; margin: 13px;\">Took 1ms</span></div>"
          },
          "metadata": {}
        }
      ]
    },
    {
      "cell_type": "markdown",
      "source": "The only notable thing about this query is that we used the `:limit` option to limit the number of output rows. If we did not put it in, thousands of rows will be returned and your browser may not like it. The `:offset` option is also available:",
      "metadata": {}
    },
    {
      "cell_type": "code",
      "source": "?[iata, city, desc, region, runways, lat, lon] := \n    [a airport.iata iata],\n    [a airport.city city],\n    [a airport.desc desc],\n    [a airport.region region],\n    [a airport.runways runways],\n    [a airport.lat lat],\n    [a airport.lon lon]\n\n:offset 3\n:limit 2",
      "metadata": {
        "trusted": true
      },
      "execution_count": 25,
      "outputs": [
        {
          "execution_count": 25,
          "output_type": "execute_result",
          "data": {
            "text/html": "<div style=\"display: flex; align-items: end; flex-direction: row;\"><table><thead><tr><td style=\"font-weight: bold\">iata</td><td style=\"font-weight: bold\">city</td><td style=\"font-weight: bold\">desc</td><td style=\"font-weight: bold\">region</td><td style=\"font-weight: bold\">runways</td><td style=\"font-weight: bold\">lat</td><td style=\"font-weight: bold\">lon</td></tr></thead><tbody><tr><td>BNA</td><td>Nashville</td><td>Nashville International Airport</td><td>US-TN</td><td><span style=\"color: #307fc1;\">4</span></td><td><span style=\"color: #307fc1;\">36.1245002746582</span></td><td><span style=\"color: #307fc1;\">-86.6781997680664</span></td></tr><tr><td>BOS</td><td>Boston</td><td>Boston Logan</td><td>US-MA</td><td><span style=\"color: #307fc1;\">6</span></td><td><span style=\"color: #307fc1;\">42.36429977</span></td><td><span style=\"color: #307fc1;\">-71.00520325</span></td></tr></tbody></table><span style=\"color: darkgrey; font-size: xx-small; margin: 13px;\">Took 1ms</span></div>"
          },
          "metadata": {}
        }
      ]
    },
    {
      "cell_type": "markdown",
      "source": "There is a subtle point here: when you specify `:limit`, the database is constrained to return only that many rows to you. But _which_ rows it gives you is not specified (for performance reasons). In our case, even though the first returned IATA is ANC, that doesn't mean the smallest IATA is ANC (the output is sorted, yes, but only among the rows themselves). In fact, the query didn't even look at all the rows, since it can already satisfy what you ask it for by looking only at five rows!",
      "metadata": {}
    },
    {
      "cell_type": "markdown",
      "source": "If you want \"global\" sorting for your results before applying `:limit`, you have to ask for it and the database will be forced to look at all the data:",
      "metadata": {}
    },
    {
      "cell_type": "code",
      "source": "?[iata, city, desc, region, runways, lat, lon] := \n    [a airport.iata iata],\n    [a airport.city city],\n    [a airport.desc desc],\n    [a airport.region region],\n    [a airport.runways runways],\n    [a airport.lat lat],\n    [a airport.lon lon]\n    \n:limit 5\n:order iata",
      "metadata": {
        "trusted": true
      },
      "execution_count": 27,
      "outputs": [
        {
          "execution_count": 27,
          "output_type": "execute_result",
          "data": {
            "text/html": "<div style=\"display: flex; align-items: end; flex-direction: row;\"><table><thead><tr><td style=\"font-weight: bold\">iata</td><td style=\"font-weight: bold\">city</td><td style=\"font-weight: bold\">desc</td><td style=\"font-weight: bold\">region</td><td style=\"font-weight: bold\">runways</td><td style=\"font-weight: bold\">lat</td><td style=\"font-weight: bold\">lon</td></tr></thead><tbody><tr><td>AAA</td><td>Anaa</td><td>Anaa Airport</td><td>PF-U-A</td><td><span style=\"color: #307fc1;\">1</span></td><td><span style=\"color: #307fc1;\">-17.3526000976562</span></td><td><span style=\"color: #307fc1;\">-145.509994506836</span></td></tr><tr><td>AAE</td><td>Annabah</td><td>Annaba Airport</td><td>DZ-36</td><td><span style=\"color: #307fc1;\">2</span></td><td><span style=\"color: #307fc1;\">36.8222007751465</span></td><td><span style=\"color: #307fc1;\">7.80916976928711</span></td></tr><tr><td>AAL</td><td>Aalborg</td><td>Aalborg Airport</td><td>DK-81</td><td><span style=\"color: #307fc1;\">2</span></td><td><span style=\"color: #307fc1;\">57.0927589138</span></td><td><span style=\"color: #307fc1;\">9.84924316406</span></td></tr><tr><td>AAN</td><td>Al Ain</td><td>Al Ain International Airport</td><td>AE-AZ</td><td><span style=\"color: #307fc1;\">1</span></td><td><span style=\"color: #307fc1;\">24.2616996765137</span></td><td><span style=\"color: #307fc1;\">55.6091995239258</span></td></tr><tr><td>AAQ</td><td>Anapa</td><td>Anapa Airport</td><td>RU-KDA</td><td><span style=\"color: #307fc1;\">1</span></td><td><span style=\"color: #307fc1;\">45.0021018981934</span></td><td><span style=\"color: #307fc1;\">37.3473014831543</span></td></tr></tbody></table><span style=\"color: darkgrey; font-size: xx-small; margin: 13px;\">Took 87ms</span></div>"
          },
          "metadata": {}
        }
      ]
    },
    {
      "cell_type": "markdown",
      "source": "You can also sort in descending order (by prefixing the sorted column name by the minus sign), or sort by multiple columns:",
      "metadata": {}
    },
    {
      "cell_type": "code",
      "source": "?[iata, city, desc, region, runways, lat, lon] := \n    [a airport.iata iata],\n    [a airport.city city],\n    [a airport.desc desc],\n    [a airport.region region],\n    [a airport.runways runways],\n    [a airport.lat lat],\n    [a airport.lon lon]\n    \n:limit 10\n:order -runways, -city",
      "metadata": {
        "trusted": true
      },
      "execution_count": 29,
      "outputs": [
        {
          "execution_count": 29,
          "output_type": "execute_result",
          "data": {
            "text/html": "<div style=\"display: flex; align-items: end; flex-direction: row;\"><table><thead><tr><td style=\"font-weight: bold\">iata</td><td style=\"font-weight: bold\">city</td><td style=\"font-weight: bold\">desc</td><td style=\"font-weight: bold\">region</td><td style=\"font-weight: bold\">runways</td><td style=\"font-weight: bold\">lat</td><td style=\"font-weight: bold\">lon</td></tr></thead><tbody><tr><td>DFW</td><td>Dallas</td><td>Dallas/Fort Worth International Airport</td><td>US-TX</td><td><span style=\"color: #307fc1;\">7</span></td><td><span style=\"color: #307fc1;\">32.896800994873</span></td><td><span style=\"color: #307fc1;\">-97.0380020141602</span></td></tr><tr><td>ORD</td><td>Chicago</td><td>Chicago O&#039;Hare International Airport</td><td>US-IL</td><td><span style=\"color: #307fc1;\">7</span></td><td><span style=\"color: #307fc1;\">41.97859955</span></td><td><span style=\"color: #307fc1;\">-87.90480042</span></td></tr><tr><td>DTW</td><td>Detroit</td><td>Detroit Metropolitan, Wayne County</td><td>US-MI</td><td><span style=\"color: #307fc1;\">6</span></td><td><span style=\"color: #307fc1;\">42.2123985290527</span></td><td><span style=\"color: #307fc1;\">-83.353401184082</span></td></tr><tr><td>DEN</td><td>Denver</td><td>Denver International Airport</td><td>US-CO</td><td><span style=\"color: #307fc1;\">6</span></td><td><span style=\"color: #307fc1;\">39.8616981506348</span></td><td><span style=\"color: #307fc1;\">-104.672996520996</span></td></tr><tr><td>BOS</td><td>Boston</td><td>Boston Logan</td><td>US-MA</td><td><span style=\"color: #307fc1;\">6</span></td><td><span style=\"color: #307fc1;\">42.36429977</span></td><td><span style=\"color: #307fc1;\">-71.00520325</span></td></tr><tr><td>AMS</td><td>Amsterdam</td><td>Amsterdam Airport Schiphol</td><td>NL-NH</td><td><span style=\"color: #307fc1;\">6</span></td><td><span style=\"color: #307fc1;\">52.3086013794</span></td><td><span style=\"color: #307fc1;\">4.76388978958</span></td></tr><tr><td>UFA</td><td>Ufa</td><td>Ufa International Airport</td><td>RU-BA</td><td><span style=\"color: #307fc1;\">5</span></td><td><span style=\"color: #307fc1;\">54.5574989318848</span></td><td><span style=\"color: #307fc1;\">55.8744010925293</span></td></tr><tr><td>YYZ</td><td>Toronto</td><td>Toronto Pearson International Airport</td><td>CA-ON</td><td><span style=\"color: #307fc1;\">5</span></td><td><span style=\"color: #307fc1;\">43.6772003174</span></td><td><span style=\"color: #307fc1;\">-79.6305999756</span></td></tr><tr><td>TRG</td><td>Tauranga</td><td>Tauranga Airport</td><td>NZ-BOP</td><td><span style=\"color: #307fc1;\">5</span></td><td><span style=\"color: #307fc1;\">-37.6719017028809</span></td><td><span style=\"color: #307fc1;\">176.195999145508</span></td></tr><tr><td>SNN</td><td>Shannon</td><td>Shannon Airport</td><td>IE-CE</td><td><span style=\"color: #307fc1;\">5</span></td><td><span style=\"color: #307fc1;\">52.7019996643066</span></td><td><span style=\"color: #307fc1;\">-8.92481994628906</span></td></tr></tbody></table><span style=\"color: darkgrey; font-size: xx-small; margin: 13px;\">Took 141ms</span></div>"
          },
          "metadata": {}
        }
      ]
    },
    {
      "cell_type": "markdown",
      "source": "The above query finds the airports with the most runways, sorted by their city in reverse alphabetical order.",
      "metadata": {}
    },
    {
      "cell_type": "markdown",
      "source": "Of course, the first question when we have new data is \"how many rows\". We delayed answering this question since it requires aggregation (technically you can do it with aggregation since the query language we learned in the first tutorial is already Turing complete. But you need to get back lots of irrelevant stuff together with the count if you do it that way. Turing machines are not efficient). Here it is, how to count:",
      "metadata": {}
    },
    {
      "cell_type": "code",
      "source": "?[count(ct)] := [ct airport.iata iata]",
      "metadata": {
        "trusted": true
      },
      "execution_count": 31,
      "outputs": [
        {
          "execution_count": 31,
          "output_type": "execute_result",
          "data": {
            "text/html": "<div style=\"display: flex; align-items: end; flex-direction: row;\"><table><thead><tr><td style=\"font-weight: bold\">ct</td></tr></thead><tbody><tr><td><span style=\"color: #307fc1;\">3504</span></td></tr></tbody></table><span style=\"color: darkgrey; font-size: xx-small; margin: 13px;\">Took 13ms</span></div>"
          },
          "metadata": {}
        }
      ]
    },
    {
      "cell_type": "markdown",
      "source": "The body of the rule is simple: we asked for all triples with the unique attribute `airport.iata`. But the aggregation `count` is applied to the _head_ of the rule instead of within the rule body.",
      "metadata": {}
    },
    {
      "cell_type": "markdown",
      "source": "We can mix aggregated head symbols with non-aggregates:",
      "metadata": {}
    },
    {
      "cell_type": "code",
      "source": "?[count(ct), initial] := [ct airport.iata iata], initial <- first(chars(iata))\n\n:order -ct",
      "metadata": {
        "trusted": true
      },
      "execution_count": 34,
      "outputs": [
        {
          "execution_count": 34,
          "output_type": "execute_result",
          "data": {
            "text/html": "<div style=\"display: flex; align-items: end; flex-direction: row;\"><table><thead><tr><td style=\"font-weight: bold\">ct</td><td style=\"font-weight: bold\">initial</td></tr></thead><tbody><tr><td><span style=\"color: #307fc1;\">245</span></td><td>S</td></tr><tr><td><span style=\"color: #307fc1;\">235</span></td><td>B</td></tr><tr><td><span style=\"color: #307fc1;\">228</span></td><td>M</td></tr><tr><td><span style=\"color: #307fc1;\">214</span></td><td>C</td></tr><tr><td><span style=\"color: #307fc1;\">212</span></td><td>A</td></tr><tr><td><span style=\"color: #307fc1;\">211</span></td><td>Y</td></tr><tr><td><span style=\"color: #307fc1;\">205</span></td><td>T</td></tr><tr><td><span style=\"color: #307fc1;\">203</span></td><td>P</td></tr><tr><td><span style=\"color: #307fc1;\">197</span></td><td>K</td></tr><tr><td><span style=\"color: #307fc1;\">184</span></td><td>L</td></tr><tr><td><span style=\"color: #307fc1;\">135</span></td><td>G</td></tr><tr><td><span style=\"color: #307fc1;\">129</span></td><td>H</td></tr><tr><td><span style=\"color: #307fc1;\">121</span></td><td>R</td></tr><tr><td><span style=\"color: #307fc1;\">116</span></td><td>D</td></tr><tr><td><span style=\"color: #307fc1;\">112</span></td><td>I</td></tr><tr><td><span style=\"color: #307fc1;\">111</span></td><td>N</td></tr><tr><td><span style=\"color: #307fc1;\">95</span></td><td>E</td></tr><tr><td><span style=\"color: #307fc1;\">89</span></td><td>O</td></tr><tr><td><span style=\"color: #307fc1;\">86</span></td><td>V</td></tr><tr><td><span style=\"color: #307fc1;\">80</span></td><td>J</td></tr><tr><td><span style=\"color: #307fc1;\">77</span></td><td>U</td></tr><tr><td><span style=\"color: #307fc1;\">76</span></td><td>F</td></tr><tr><td><span style=\"color: #307fc1;\">59</span></td><td>W</td></tr><tr><td><span style=\"color: #307fc1;\">49</span></td><td>Z</td></tr><tr><td><span style=\"color: #307fc1;\">28</span></td><td>X</td></tr><tr><td><span style=\"color: #307fc1;\">7</span></td><td>Q</td></tr></tbody></table><span style=\"color: darkgrey; font-size: xx-small; margin: 13px;\">Took 10ms</span></div>"
          },
          "metadata": {}
        }
      ]
    },
    {
      "cell_type": "markdown",
      "source": "This gives you the number of airports with different initials. Any non-aggregated symbols in the head acts as grouping variables (similar to `group by` in SQL).",
      "metadata": {}
    },
    {
      "cell_type": "markdown",
      "source": "Another caveat lies here. Usually you can break a rule body into smaller parts by introducing other rules. But if we naively try to \"refactor\" the above query, we get nonsensical results:",
      "metadata": {}
    },
    {
      "cell_type": "code",
      "source": "initials[i] := [_ airport.iata iata], i <- first(chars(iata))\n?[count(ct), initial] := initials[initial], ct <- initial\n\n:order -ct",
      "metadata": {
        "trusted": true
      },
      "execution_count": 38,
      "outputs": [
        {
          "execution_count": 38,
          "output_type": "execute_result",
          "data": {
            "text/html": "<div style=\"display: flex; align-items: end; flex-direction: row;\"><table><thead><tr><td style=\"font-weight: bold\">ct</td><td style=\"font-weight: bold\">initial</td></tr></thead><tbody><tr><td><span style=\"color: #307fc1;\">1</span></td><td>A</td></tr><tr><td><span style=\"color: #307fc1;\">1</span></td><td>B</td></tr><tr><td><span style=\"color: #307fc1;\">1</span></td><td>C</td></tr><tr><td><span style=\"color: #307fc1;\">1</span></td><td>D</td></tr><tr><td><span style=\"color: #307fc1;\">1</span></td><td>E</td></tr><tr><td><span style=\"color: #307fc1;\">1</span></td><td>F</td></tr><tr><td><span style=\"color: #307fc1;\">1</span></td><td>G</td></tr><tr><td><span style=\"color: #307fc1;\">1</span></td><td>H</td></tr><tr><td><span style=\"color: #307fc1;\">1</span></td><td>I</td></tr><tr><td><span style=\"color: #307fc1;\">1</span></td><td>J</td></tr><tr><td><span style=\"color: #307fc1;\">1</span></td><td>K</td></tr><tr><td><span style=\"color: #307fc1;\">1</span></td><td>L</td></tr><tr><td><span style=\"color: #307fc1;\">1</span></td><td>M</td></tr><tr><td><span style=\"color: #307fc1;\">1</span></td><td>N</td></tr><tr><td><span style=\"color: #307fc1;\">1</span></td><td>O</td></tr><tr><td><span style=\"color: #307fc1;\">1</span></td><td>P</td></tr><tr><td><span style=\"color: #307fc1;\">1</span></td><td>Q</td></tr><tr><td><span style=\"color: #307fc1;\">1</span></td><td>R</td></tr><tr><td><span style=\"color: #307fc1;\">1</span></td><td>S</td></tr><tr><td><span style=\"color: #307fc1;\">1</span></td><td>T</td></tr><tr><td><span style=\"color: #307fc1;\">1</span></td><td>U</td></tr><tr><td><span style=\"color: #307fc1;\">1</span></td><td>V</td></tr><tr><td><span style=\"color: #307fc1;\">1</span></td><td>W</td></tr><tr><td><span style=\"color: #307fc1;\">1</span></td><td>X</td></tr><tr><td><span style=\"color: #307fc1;\">1</span></td><td>Y</td></tr><tr><td><span style=\"color: #307fc1;\">1</span></td><td>Z</td></tr></tbody></table><span style=\"color: darkgrey; font-size: xx-small; margin: 13px;\">Took 11ms</span></div>"
          },
          "metadata": {}
        }
      ]
    },
    {
      "cell_type": "markdown",
      "source": "What's happening? Remember that Cozo Datalog operates with set semantics instead of bag semantics. So in the first rule, the results are already de-duplicated. But for aggregations like `count`, counting must be done with bag semantics. In fact, if the first rule can _disambiguate_ the duplicates, you get the old results:",
      "metadata": {}
    },
    {
      "cell_type": "code",
      "source": "initials[i, iata] := [_ airport.iata iata], i <- first(chars(iata))\n?[count(ct), initial] := initials[initial, _], ct <- initial\n\n:order -ct",
      "metadata": {
        "trusted": true
      },
      "execution_count": 39,
      "outputs": [
        {
          "execution_count": 39,
          "output_type": "execute_result",
          "data": {
            "text/html": "<div style=\"display: flex; align-items: end; flex-direction: row;\"><table><thead><tr><td style=\"font-weight: bold\">ct</td><td style=\"font-weight: bold\">initial</td></tr></thead><tbody><tr><td><span style=\"color: #307fc1;\">245</span></td><td>S</td></tr><tr><td><span style=\"color: #307fc1;\">235</span></td><td>B</td></tr><tr><td><span style=\"color: #307fc1;\">228</span></td><td>M</td></tr><tr><td><span style=\"color: #307fc1;\">214</span></td><td>C</td></tr><tr><td><span style=\"color: #307fc1;\">212</span></td><td>A</td></tr><tr><td><span style=\"color: #307fc1;\">211</span></td><td>Y</td></tr><tr><td><span style=\"color: #307fc1;\">205</span></td><td>T</td></tr><tr><td><span style=\"color: #307fc1;\">203</span></td><td>P</td></tr><tr><td><span style=\"color: #307fc1;\">197</span></td><td>K</td></tr><tr><td><span style=\"color: #307fc1;\">184</span></td><td>L</td></tr><tr><td><span style=\"color: #307fc1;\">135</span></td><td>G</td></tr><tr><td><span style=\"color: #307fc1;\">129</span></td><td>H</td></tr><tr><td><span style=\"color: #307fc1;\">121</span></td><td>R</td></tr><tr><td><span style=\"color: #307fc1;\">116</span></td><td>D</td></tr><tr><td><span style=\"color: #307fc1;\">112</span></td><td>I</td></tr><tr><td><span style=\"color: #307fc1;\">111</span></td><td>N</td></tr><tr><td><span style=\"color: #307fc1;\">95</span></td><td>E</td></tr><tr><td><span style=\"color: #307fc1;\">89</span></td><td>O</td></tr><tr><td><span style=\"color: #307fc1;\">86</span></td><td>V</td></tr><tr><td><span style=\"color: #307fc1;\">80</span></td><td>J</td></tr><tr><td><span style=\"color: #307fc1;\">77</span></td><td>U</td></tr><tr><td><span style=\"color: #307fc1;\">76</span></td><td>F</td></tr><tr><td><span style=\"color: #307fc1;\">59</span></td><td>W</td></tr><tr><td><span style=\"color: #307fc1;\">49</span></td><td>Z</td></tr><tr><td><span style=\"color: #307fc1;\">28</span></td><td>X</td></tr><tr><td><span style=\"color: #307fc1;\">7</span></td><td>Q</td></tr></tbody></table><span style=\"color: darkgrey; font-size: xx-small; margin: 13px;\">Took 23ms</span></div>"
          },
          "metadata": {}
        }
      ]
    },
    {
      "cell_type": "markdown",
      "source": "There are many aggregate functions in Cozo, most of them should be quite familiar for anyone fluent in SQL. For example, the following calculates the statistics for runways:",
      "metadata": {}
    },
    {
      "cell_type": "code",
      "source": "?[mean(runways), std_dev(runways)] := [a airport.runways runways]\n\n:order mean_runways",
      "metadata": {
        "trusted": true
      },
      "execution_count": 52,
      "outputs": [
        {
          "execution_count": 52,
          "output_type": "execute_result",
          "data": {
            "text/html": "<pre style=\"font-size: small\"><span style='color:#a00'>parser::sort_key_not_found</span>\n\n  <span style='color:#a00'>×</span> Sort key &#39;mean_runways&#39; not found\n   ╭─[2:1]\n <span style='opacity:0.67'>2</span> │ \n <span style='opacity:0.67'>3</span> │ :order mean_runways\n   · <span style='color:#a0a'><b>       ────────────</b></span>\n   ╰────\n</pre>"
          },
          "metadata": {}
        }
      ]
    },
    {
      "cell_type": "code",
      "source": "",
      "metadata": {},
      "execution_count": null,
      "outputs": []
    }
  ]
}